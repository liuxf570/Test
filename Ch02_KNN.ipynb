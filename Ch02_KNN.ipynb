{
 "cells": [
  {
   "cell_type": "markdown",
   "metadata": {},
   "source": [
    "# k-近邻算法的一般流程\n",
    "### （1）收集数据：可以使用任何方法\n",
    "### （2）准备数据：距离计算所需的数值，最好是结构化的数据格式\n",
    "### （3）分析数据：可以使用任何方法\n",
    "### （4）训练算法：此步骤不适用于k-近邻算法\n",
    "### （5）测试算法：计算机错误率\n",
    "### （6）使用算法：首先需要输入样本数据和结构化的输出结果，然后运行k-近邻算法判定输入数据分别属于哪个分类，最后应用对计算出的分类执行后续的处理\n"
   ]
  },
  {
   "cell_type": "code",
   "execution_count": 2,
   "metadata": {
    "collapsed": true
   },
   "outputs": [],
   "source": [
    "from  numpy import *\n",
    "import operator\n",
    "\n",
    "# 函数功能：创建数据集和标签\n",
    "def createDataSet():\n",
    "    group = array([[1.0,1.1],[1.0,1.0],[0,0],[0,0.1]])\n",
    "    labels = ['A','A','B','B']\n",
    "    return group,labels\n"
   ]
  },
  {
   "cell_type": "code",
   "execution_count": 3,
   "metadata": {
    "collapsed": true
   },
   "outputs": [],
   "source": [
    "group,labels = createDataSet()"
   ]
  },
  {
   "cell_type": "code",
   "execution_count": 4,
   "metadata": {},
   "outputs": [
    {
     "data": {
      "text/plain": [
       "array([[ 1. ,  1.1],\n",
       "       [ 1. ,  1. ],\n",
       "       [ 0. ,  0. ],\n",
       "       [ 0. ,  0.1]])"
      ]
     },
     "execution_count": 4,
     "metadata": {},
     "output_type": "execute_result"
    }
   ],
   "source": [
    "group"
   ]
  },
  {
   "cell_type": "code",
   "execution_count": 5,
   "metadata": {},
   "outputs": [
    {
     "data": {
      "text/plain": [
       "['A', 'A', 'B', 'B']"
      ]
     },
     "execution_count": 5,
     "metadata": {},
     "output_type": "execute_result"
    }
   ],
   "source": [
    "labels"
   ]
  },
  {
   "cell_type": "markdown",
   "metadata": {},
   "source": [
    "## k-近邻算法的伪代码\n",
    "####  对未知类别属性的数据集中的每一个点一次执行以下操作：\n",
    "#### （1）计算机已知类别数据集中的点与当前点之间的距离；\n",
    "#### （2）按照距离递增次序排序；\n",
    "#### （3）选取与当前点距离最小的k个点；\n",
    "#### （4）确定前k点所在类别的出现频率\n",
    "#### （5）返回前k个点出现频率最高的类别作为当前点的预测分类"
   ]
  },
  {
   "cell_type": "markdown",
   "metadata": {},
   "source": [
    "# 程序清单2-1 k-近邻算法"
   ]
  },
  {
   "cell_type": "code",
   "execution_count": 6,
   "metadata": {
    "scrolled": true
   },
   "outputs": [
    {
     "data": {
      "text/plain": [
       "'B'"
      ]
     },
     "execution_count": 6,
     "metadata": {},
     "output_type": "execute_result"
    }
   ],
   "source": [
    "'''\n",
    "Created on 2019-6-29\n",
    "kNN: k Nearest Neighbors k-近邻算法\n",
    "\n",
    "Input:      inX: vector to compare to existing dataset (1xN) 用于分类的输入向量\n",
    "            dataSet: size m data set of known vectors (NxM) 输入的训练样本集\n",
    "            labels: data set labels (1xM vector) 标签向量，元素数目和矩阵dataSet 行数相同\n",
    "            k: number of neighbors to use for comparison (should be an odd number) 用于选择最近邻居的数目，\n",
    "            \n",
    "            \n",
    "Output:     the most popular class label 最近接近的标签\n",
    "\n",
    "@author: liuxf570\n",
    "\n",
    "'''\n",
    "def classify0(inX,dataSet,labels,k):\n",
    "    #print(dataSet)\n",
    "    dataSetSize = dataSet.shape[0]\n",
    "    #print(dataSetSize)\n",
    "    #print(tile(inX,(dataSetSize,1)))\n",
    "    diffMat = tile(inX, (dataSetSize,1)) - dataSet\n",
    "    #Numpy的 tile() 函数，就是将原矩阵横向、纵向地复制。tile 是瓷砖的意思，顾名思义，这个函数就是把数组像瓷砖一样铺展开来。print\n",
    "   \n",
    "    #print(diffMat)\n",
    "    sqDiffMat = diffMat**2\n",
    "    sqDistances = sqDiffMat.sum(axis=1)       #axis 按行统计相加\n",
    "    distances = sqDistances**0.5\n",
    "    sortedDistIndicies = distances.argsort()#argsort函数返回的是数组值从小到大的索引值\n",
    "   #print(sqDiffMat)\n",
    "    #print(sqDistances)\n",
    "   # print(distances)\n",
    "   # print(sortedDistIndicies)\n",
    "    # 以上为计算距离\n",
    "    # 选择距离最小的k个点\n",
    "    classCount={}   #字典\n",
    "    for i in range(k):\n",
    "        voteIlabel = labels[sortedDistIndicies[i]]\n",
    "        #print(voteIlabel)\n",
    "        classCount[voteIlabel] = classCount.get(voteIlabel,0)+1\n",
    "        #print(classCount.get(voteIlabel,0))\n",
    "        #print(classCount[voteIlabel])\n",
    "    #sortedClassCount = sorted(classCount.iteritems(),key=operator.itemgetter(1),reverse=True)\n",
    "    sortedClassCount = sorted(classCount.items(), key=operator.itemgetter(1), reverse=True)\n",
    "    #classCount.iteritems()将classCount字典分解为元组列表，operator.itemgetter(1)按照第二个元素的次序对元组进行排序，\n",
    "    #reverse=True是逆序，即按照从大到小的顺序排列\n",
    "    #print(sortedClassCount[0][0])\n",
    "    #print(sortedClassCount)\n",
    "    return sortedClassCount[0][0]\n",
    "\n",
    "classify0([0,0],group,labels,3)\n",
    "\n",
    "          \n",
    "\n",
    "          \n",
    "    "
   ]
  },
  {
   "cell_type": "code",
   "execution_count": 7,
   "metadata": {},
   "outputs": [
    {
     "name": "stdout",
     "output_type": "stream",
     "text": [
      "{'A': 2, 'B': 1, 'C': 3}\n",
      "[('C', 3), ('A', 2), ('B', 1)]\n"
     ]
    }
   ],
   "source": [
    "import operator\n",
    "dict = {}\n",
    "dict['A'] = 2\n",
    "dict['B'] = 1\n",
    "dict['C'] = 3\n",
    "print (dict)\n",
    "Countlabels_max = sorted(dict.items(), key=operator.itemgetter(1), reverse=True)#使用itemgetter()从元组记录中取回特定的字段：\n",
    "print(Countlabels_max)\n",
    "\n"
   ]
  },
  {
   "cell_type": "markdown",
   "metadata": {},
   "source": [
    "operator模块中为我们提供了大量可以用来替代代数操作符的函数来，除了代数运算符，operator模块中另两个非常重要的方法是itemgetter和attrgetter。这两个函数可以从一个序列或者对象中去获取指定的元素或属性值。我们再来看一个例子，将一个元组列表按元组中的值排序。为此，我们使用itemgetter(1)来生成一个函数去获取元组中的第一个值，其效果等同于lambda函数lambda fields: fields[1]。\n",
    "\n"
   ]
  },
  {
   "cell_type": "markdown",
   "metadata": {},
   "source": [
    "# 程序清单2-2 将文本记录转换为NumPy的解析程序"
   ]
  },
  {
   "cell_type": "code",
   "execution_count": 8,
   "metadata": {},
   "outputs": [
    {
     "name": "stdout",
     "output_type": "stream",
     "text": [
      "[[  4.09200000e+04   8.32697600e+00   9.53952000e-01]\n",
      " [  1.44880000e+04   7.15346900e+00   1.67390400e+00]\n",
      " [  2.60520000e+04   1.44187100e+00   8.05124000e-01]\n",
      " ..., \n",
      " [  2.65750000e+04   1.06501020e+01   8.66627000e-01]\n",
      " [  4.81110000e+04   9.13452800e+00   7.28045000e-01]\n",
      " [  4.37570000e+04   7.88260100e+00   1.33244600e+00]]\n",
      "[3, 2, 1, 1, 1, 1, 3, 3, 1, 3, 1, 1, 2, 1, 1, 1, 1, 1, 2, 3, 2, 1, 2, 3, 2, 3, 2, 3, 2, 1, 3, 1, 3, 1, 2, 1, 1, 2, 3, 3, 1, 2, 3, 3, 3, 1, 1, 1, 1, 2, 2, 1, 3, 2, 2, 2, 2, 3, 1, 2, 1, 2, 2, 2, 2, 2, 3, 2, 3, 1, 2, 3, 2, 2, 1, 3, 1, 1, 3, 3, 1, 2, 3, 1, 3, 1, 2, 2, 1, 1, 3, 3, 1, 2, 1, 3, 3, 2, 1, 1, 3, 1, 2, 3, 3, 2, 3, 3, 1, 2, 3, 2, 1, 3, 1, 2, 1, 1, 2, 3, 2, 3, 2, 3, 2, 1, 3, 3, 3, 1, 3, 2, 2, 3, 1, 3, 3, 3, 1, 3, 1, 1, 3, 3, 2, 3, 3, 1, 2, 3, 2, 2, 3, 3, 3, 1, 2, 2, 1, 1, 3, 2, 3, 3, 1, 2, 1, 3, 1, 2, 3, 2, 3, 1, 1, 1, 3, 2, 3, 1, 3, 2, 1, 3, 2, 2, 3, 2, 3, 2, 1, 1, 3, 1, 3, 2, 2, 2, 3, 2, 2, 1, 2, 2, 3, 1, 3, 3, 2, 1, 1, 1, 2, 1, 3, 3, 3, 3, 2, 1, 1, 1, 2, 3, 2, 1, 3, 1, 3, 2, 2, 3, 1, 3, 1, 1, 2, 1, 2, 2, 1, 3, 1, 3, 2, 3, 1, 2, 3, 1, 1, 1, 1, 2, 3, 2, 2, 3, 1, 2, 1, 1, 1, 3, 3, 2, 1, 1, 1, 2, 2, 3, 1, 1, 1, 2, 1, 1, 2, 1, 1, 1, 2, 2, 3, 2, 3, 3, 3, 3, 1, 2, 3, 1, 1, 1, 3, 1, 3, 2, 2, 1, 3, 1, 3, 2, 2, 1, 2, 2, 3, 1, 3, 2, 1, 1, 3, 3, 2, 3, 3, 2, 3, 1, 3, 1, 3, 3, 1, 3, 2, 1, 3, 1, 3, 2, 1, 2, 2, 1, 3, 1, 1, 3, 3, 2, 2, 3, 1, 2, 3, 3, 2, 2, 1, 1, 1, 1, 3, 2, 1, 1, 3, 2, 1, 1, 3, 3, 3, 2, 3, 2, 1, 1, 1, 1, 1, 3, 2, 2, 1, 2, 1, 3, 2, 1, 3, 2, 1, 3, 1, 1, 3, 3, 3, 3, 2, 1, 1, 2, 1, 3, 3, 2, 1, 2, 3, 2, 1, 2, 2, 2, 1, 1, 3, 1, 1, 2, 3, 1, 1, 2, 3, 1, 3, 1, 1, 2, 2, 1, 2, 2, 2, 3, 1, 1, 1, 3, 1, 3, 1, 3, 3, 1, 1, 1, 3, 2, 3, 3, 2, 2, 1, 1, 1, 2, 1, 2, 2, 3, 3, 3, 1, 1, 3, 3, 2, 3, 3, 2, 3, 3, 3, 2, 3, 3, 1, 2, 3, 2, 1, 1, 1, 1, 3, 3, 3, 3, 2, 1, 1, 1, 1, 3, 1, 1, 2, 1, 1, 2, 3, 2, 1, 2, 2, 2, 3, 2, 1, 3, 2, 3, 2, 3, 2, 1, 1, 2, 3, 1, 3, 3, 3, 1, 2, 1, 2, 2, 1, 2, 2, 2, 2, 2, 3, 2, 1, 3, 3, 2, 2, 2, 3, 1, 2, 1, 1, 3, 2, 3, 2, 3, 2, 3, 3, 2, 2, 1, 3, 1, 2, 1, 3, 1, 1, 1, 3, 1, 1, 3, 3, 2, 2, 1, 3, 1, 1, 3, 2, 3, 1, 1, 3, 1, 3, 3, 1, 2, 3, 1, 3, 1, 1, 2, 1, 3, 1, 1, 1, 1, 2, 1, 3, 1, 2, 1, 3, 1, 3, 1, 1, 2, 2, 2, 3, 2, 2, 1, 2, 3, 3, 2, 3, 3, 3, 2, 3, 3, 1, 3, 2, 3, 2, 1, 2, 1, 1, 1, 2, 3, 2, 2, 1, 2, 2, 1, 3, 1, 3, 3, 3, 2, 2, 3, 3, 1, 2, 2, 2, 3, 1, 2, 1, 3, 1, 2, 3, 1, 1, 1, 2, 2, 3, 1, 3, 1, 1, 3, 1, 2, 3, 1, 2, 3, 1, 2, 3, 2, 2, 2, 3, 1, 3, 1, 2, 3, 2, 2, 3, 1, 2, 3, 2, 3, 1, 2, 2, 3, 1, 1, 1, 2, 2, 1, 1, 2, 1, 2, 1, 2, 3, 2, 1, 3, 3, 3, 1, 1, 3, 1, 2, 3, 3, 2, 2, 2, 1, 2, 3, 2, 2, 3, 2, 2, 2, 3, 3, 2, 1, 3, 2, 1, 3, 3, 1, 2, 3, 2, 1, 3, 3, 3, 1, 2, 2, 2, 3, 2, 3, 3, 1, 2, 1, 1, 2, 1, 3, 1, 2, 2, 1, 3, 2, 1, 3, 3, 2, 2, 2, 1, 2, 2, 1, 3, 1, 3, 1, 3, 3, 1, 1, 2, 3, 2, 2, 3, 1, 1, 1, 1, 3, 2, 2, 1, 3, 1, 2, 3, 1, 3, 1, 3, 1, 1, 3, 2, 3, 1, 1, 3, 3, 3, 3, 1, 3, 2, 2, 1, 1, 3, 3, 2, 2, 2, 1, 2, 1, 2, 1, 3, 2, 1, 2, 2, 3, 1, 2, 2, 2, 3, 2, 1, 2, 1, 2, 3, 3, 2, 3, 1, 1, 3, 3, 1, 2, 2, 2, 2, 2, 2, 1, 3, 3, 3, 3, 3, 1, 1, 3, 2, 1, 2, 1, 2, 2, 3, 2, 2, 2, 3, 1, 2, 1, 2, 2, 1, 1, 2, 3, 3, 1, 1, 1, 1, 3, 3, 3, 3, 3, 3, 1, 3, 3, 2, 3, 2, 3, 3, 2, 2, 1, 1, 1, 3, 3, 1, 1, 1, 3, 3, 2, 1, 2, 1, 1, 2, 2, 1, 1, 1, 3, 1, 1, 2, 3, 2, 2, 1, 3, 1, 2, 3, 1, 2, 2, 2, 2, 3, 2, 3, 3, 1, 2, 1, 2, 3, 1, 3, 2, 2, 2, 2, 2, 2, 2, 2, 2, 2, 2, 2, 3, 2, 2, 2, 2, 2, 1, 3, 3, 3]\n"
     ]
    }
   ],
   "source": [
    "def file2matrix(filename):\n",
    "    fr = open(filename)\n",
    "    arrayOLines = fr.readlines()\n",
    "   # print(arrayOLines)\n",
    "    numberOfLines = len(arrayOLines)  #1得到文本行数\n",
    "  #  print(numberOfLines)\n",
    "    returnMat = zeros((numberOfLines,3))\n",
    "    classLabelVector = []      #2创建返回的NumPy矩阵\n",
    "    index  = 0     \n",
    "    for line in arrayOLines:  #3解析文件数据列表\n",
    "        line = line.strip() \n",
    "        # Python strip() 方法用于移除字符串头尾指定的字符（默认为空格或换行符）或字符序列。 \n",
    "        #注意：该方法只能删除开头或是结尾的字符，不能删除中间部分的字符。\n",
    "        listFormLine = line.split('\\t')\n",
    "       # print(listFormLine)\n",
    "        returnMat[index,:] = listFormLine[0:3]\n",
    "        classLabelVector.append(int(listFormLine[-1]))\n",
    "        index +=1        \n",
    "    return returnMat,classLabelVector\n",
    "\n",
    "        \n",
    "datingDataMat,datingLabels=file2matrix('datingTestSet2.txt')\n",
    "print(datingDataMat)\n",
    "print(datingLabels)"
   ]
  },
  {
   "cell_type": "code",
   "execution_count": 9,
   "metadata": {},
   "outputs": [
    {
     "data": {
      "image/png": "[encoded data removed]",
      "text/plain": [
       "<matplotlib.figure.Figure at 0x79759b0>"
      ]
     },
     "metadata": {},
     "output_type": "display_data"
    }
   ],
   "source": [
    "import matplotlib\n",
    "import matplotlib.pyplot as plt\n",
    "fig = plt.figure(figsize=(8,7))\n",
    "plt.rcParams['font.sans-serif']='SimHei'\n",
    "plt.rcParams['axes.unicode_minus']=False\n",
    "ax = fig.add_subplot(111)\n",
    "#ax.scatter(datingDataMat[:,1],datingDataMat[:,2])\n",
    "ax.scatter(datingDataMat[:,0],datingDataMat[:,1],15.0*array(datingLabels),15.0*array(datingLabels))\n",
    "#plt.scatter(datingDataMat[:,1],datingDataMat[:,2],15.0*array(datingLabels),15.0*array(datingLabels))\n",
    "#plt.scatter(datingDataMat[:,0],datingDataMat[:,2],15.0*array(datingLabels),15.0*array(datingLabels))\n",
    "plt.legend(['不喜欢','魅力一般','极具魅力'])  # 图例这里有点问题，为什么只显示一种？\n",
    "plt.show()"
   ]
  },
  {
   "cell_type": "markdown",
   "metadata": {},
   "source": [
    "# 程序清单2-3 归一化特征值"
   ]
  },
  {
   "cell_type": "code",
   "execution_count": 10,
   "metadata": {},
   "outputs": [
    {
     "name": "stdout",
     "output_type": "stream",
     "text": [
      "[[ 0.44832535  0.39805139  0.56233353]\n",
      " [ 0.15873259  0.34195467  0.98724416]\n",
      " [ 0.28542943  0.06892523  0.47449629]\n",
      " ..., \n",
      " [ 0.29115949  0.50910294  0.51079493]\n",
      " [ 0.52711097  0.43665451  0.4290048 ]\n",
      " [ 0.47940793  0.3768091   0.78571804]]\n",
      "[  9.12730000e+04   2.09193490e+01   1.69436100e+00]\n",
      "[ 0.        0.        0.001156]\n"
     ]
    }
   ],
   "source": [
    "def autoNorm(dataSet):\n",
    "    minVals = dataSet.min(0)\n",
    "    maxVals = dataSet.max(0)\n",
    "    #print(minVals)\n",
    "    #print(maxVals)\n",
    "    ranges = maxVals - minVals\n",
    "    normDataSet = zeros(shape(dataSet))\n",
    "   #print(normDataSet)\n",
    "    m = dataSet.shape[0]\n",
    "    #print(m)\n",
    "    normDataSet = dataSet - tile(minVals,(m,1))   # newval =(oldValue - min )/(max -min) 数值归一化\n",
    "    normDataSet = normDataSet/tile(ranges,(m,1))\n",
    "    return normDataSet,ranges,minVals\n",
    "\n",
    "normMat,ranges,minVals=autoNorm(datingDataMat)\n",
    "print(normMat)\n",
    "print(ranges)\n",
    "print(minVals)"
   ]
  },
  {
   "cell_type": "markdown",
   "metadata": {},
   "source": [
    "# 程序清单2-4 分类器针对约会网站的测试代码"
   ]
  },
  {
   "cell_type": "code",
   "execution_count": 11,
   "metadata": {},
   "outputs": [
    {
     "name": "stdout",
     "output_type": "stream",
     "text": [
      "1000\n",
      "100\n",
      "the classifier came back with:3,the real answer is :3\n",
      "the classifier came back with:2,the real answer is :2\n",
      "the classifier came back with:1,the real answer is :1\n",
      "the classifier came back with:1,the real answer is :1\n",
      "the classifier came back with:1,the real answer is :1\n",
      "the classifier came back with:1,the real answer is :1\n",
      "the classifier came back with:3,the real answer is :3\n",
      "the classifier came back with:3,the real answer is :3\n",
      "the classifier came back with:1,the real answer is :1\n",
      "the classifier came back with:3,the real answer is :3\n",
      "the classifier came back with:1,the real answer is :1\n",
      "the classifier came back with:1,the real answer is :1\n",
      "the classifier came back with:2,the real answer is :2\n",
      "the classifier came back with:1,the real answer is :1\n",
      "the classifier came back with:1,the real answer is :1\n",
      "the classifier came back with:1,the real answer is :1\n",
      "the classifier came back with:1,the real answer is :1\n",
      "the classifier came back with:1,the real answer is :1\n",
      "the classifier came back with:2,the real answer is :2\n",
      "the classifier came back with:3,the real answer is :3\n",
      "the classifier came back with:2,the real answer is :2\n",
      "the classifier came back with:1,the real answer is :1\n",
      "the classifier came back with:3,the real answer is :2\n",
      "the classifier came back with:3,the real answer is :3\n",
      "the classifier came back with:2,the real answer is :2\n",
      "the classifier came back with:3,the real answer is :3\n",
      "the classifier came back with:2,the real answer is :2\n",
      "the classifier came back with:3,the real answer is :3\n",
      "the classifier came back with:2,the real answer is :2\n",
      "the classifier came back with:1,the real answer is :1\n",
      "the classifier came back with:3,the real answer is :3\n",
      "the classifier came back with:1,the real answer is :1\n",
      "the classifier came back with:3,the real answer is :3\n",
      "the classifier came back with:1,the real answer is :1\n",
      "the classifier came back with:2,the real answer is :2\n",
      "the classifier came back with:1,the real answer is :1\n",
      "the classifier came back with:1,the real answer is :1\n",
      "the classifier came back with:2,the real answer is :2\n",
      "the classifier came back with:3,the real answer is :3\n",
      "the classifier came back with:3,the real answer is :3\n",
      "the classifier came back with:1,the real answer is :1\n",
      "the classifier came back with:2,the real answer is :2\n",
      "the classifier came back with:3,the real answer is :3\n",
      "the classifier came back with:3,the real answer is :3\n",
      "the classifier came back with:3,the real answer is :3\n",
      "the classifier came back with:1,the real answer is :1\n",
      "the classifier came back with:1,the real answer is :1\n",
      "the classifier came back with:1,the real answer is :1\n",
      "the classifier came back with:1,the real answer is :1\n",
      "the classifier came back with:2,the real answer is :2\n",
      "the classifier came back with:2,the real answer is :2\n",
      "the classifier came back with:1,the real answer is :1\n",
      "the classifier came back with:3,the real answer is :3\n",
      "the classifier came back with:2,the real answer is :2\n",
      "the classifier came back with:2,the real answer is :2\n",
      "the classifier came back with:2,the real answer is :2\n",
      "the classifier came back with:2,the real answer is :2\n",
      "the classifier came back with:3,the real answer is :3\n",
      "the classifier came back with:1,the real answer is :1\n",
      "the classifier came back with:2,the real answer is :2\n",
      "the classifier came back with:1,the real answer is :1\n",
      "the classifier came back with:2,the real answer is :2\n",
      "the classifier came back with:2,the real answer is :2\n",
      "the classifier came back with:2,the real answer is :2\n",
      "the classifier came back with:2,the real answer is :2\n",
      "the classifier came back with:2,the real answer is :2\n",
      "the classifier came back with:3,the real answer is :3\n",
      "the classifier came back with:2,the real answer is :2\n",
      "the classifier came back with:3,the real answer is :3\n",
      "the classifier came back with:1,the real answer is :1\n",
      "the classifier came back with:2,the real answer is :2\n",
      "the classifier came back with:3,the real answer is :3\n",
      "the classifier came back with:2,the real answer is :2\n",
      "the classifier came back with:2,the real answer is :2\n",
      "the classifier came back with:3,the real answer is :1\n",
      "the classifier came back with:3,the real answer is :3\n",
      "the classifier came back with:1,the real answer is :1\n",
      "the classifier came back with:1,the real answer is :1\n",
      "the classifier came back with:3,the real answer is :3\n",
      "the classifier came back with:3,the real answer is :3\n",
      "the classifier came back with:1,the real answer is :1\n",
      "the classifier came back with:2,the real answer is :2\n",
      "the classifier came back with:3,the real answer is :3\n",
      "the classifier came back with:3,the real answer is :1\n",
      "the classifier came back with:3,the real answer is :3\n",
      "the classifier came back with:1,the real answer is :1\n",
      "the classifier came back with:2,the real answer is :2\n",
      "the classifier came back with:2,the real answer is :2\n",
      "the classifier came back with:1,the real answer is :1\n",
      "the classifier came back with:1,the real answer is :1\n",
      "the classifier came back with:3,the real answer is :3\n",
      "the classifier came back with:2,the real answer is :3\n",
      "the classifier came back with:1,the real answer is :1\n",
      "the classifier came back with:2,the real answer is :2\n",
      "the classifier came back with:1,the real answer is :1\n",
      "the classifier came back with:3,the real answer is :3\n",
      "the classifier came back with:3,the real answer is :3\n",
      "the classifier came back with:2,the real answer is :2\n",
      "the classifier came back with:1,the real answer is :1\n",
      "the classifier came back with:3,the real answer is :1\n",
      "the total error rate is:0.050000\n"
     ]
    }
   ],
   "source": [
    "def datingClassTest():\n",
    "    hoRatio = 0.10\n",
    "    datingDataMat,datingLabels=file2matrix('datingTestSet2.txt')\n",
    "    normMat,ranges,minVals=autoNorm(datingDataMat)\n",
    "    m = normMat.shape[0] # 1000\n",
    "    print(m)\n",
    "    numTestVecs = int(m*hoRatio)\n",
    "    print(numTestVecs)\n",
    "    errorCount = 0\n",
    "    for i in range(numTestVecs):\n",
    "        classifierResult = classify0(normMat[i,:],normMat[numTestVecs:m,:],datingLabels[numTestVecs:m],3)\n",
    "        print (\"the classifier came back with:%d,the real answer is :%d\" % (classifierResult,datingLabels[i]))\n",
    "        if(classifierResult != datingLabels[i]):\n",
    "            errorCount += 1.0\n",
    "    print (\"the total error rate is:%f\" % (errorCount/float(numTestVecs)))\n",
    "        \n",
    "datingClassTest()"
   ]
  },
  {
   "cell_type": "markdown",
   "metadata": {},
   "source": [
    "# 程序清单2-5 约会网站预测函数\n"
   ]
  },
  {
   "cell_type": "code",
   "execution_count": 12,
   "metadata": {},
   "outputs": [
    {
     "name": "stdout",
     "output_type": "stream",
     "text": [
      "percentage of time spent playing video games?10\n",
      "frequent flier miles earned per year?1000\n",
      "liters of ice cream consumed per year?0.5\n",
      "[  1.00000000e+03   1.00000000e+01   5.00000000e-01]\n",
      "you will probaly like this person  in small doses\n"
     ]
    }
   ],
   "source": [
    "def classifyPerson():\n",
    "    resultList = ['not at all','in small doses','in large doses']\n",
    "    percentTats = float(input(\"percentage of time spent playing video games?\"))\n",
    "    ffMiles=float(input(\"frequent flier miles earned per year?\"))\n",
    "    iceCream = float(input(\"liters of ice cream consumed per year?\"))\n",
    "    datingDataMat,datingLabels=file2matrix('datingTestSet2.txt')\n",
    "    normMat,ranges,minVals=autoNorm(datingDataMat)\n",
    "    intArr=array([ffMiles,percentTats,iceCream])\n",
    "    print(intArr)\n",
    "    classifierResult = classify0((intArr-minVals)/ranges,normMat,datingLabels,3)\n",
    "    print(\"you will probaly like this person \",resultList[int(classifierResult)- 1])\n",
    "    #print(resultList[int(classifierResult)- 1])\n",
    "classifyPerson()"
   ]
  },
  {
   "cell_type": "code",
   "execution_count": 14,
   "metadata": {
    "collapsed": true
   },
   "outputs": [],
   "source": [
    "'''\n",
    "Created on Sep 16, 2010\n",
    "kNN: k Nearest Neighbors\n",
    "\n",
    "Input:      inX: vector to compare to existing dataset (1xN)\n",
    "            dataSet: size m data set of known vectors (NxM)\n",
    "            labels: data set labels (1xM vector)\n",
    "            k: number of neighbors to use for comparison (should be an odd number)\n",
    "            \n",
    "Output:     the most popular class label\n",
    "\n",
    "@author: pbharrin\n",
    "'''\n",
    "\n",
    "from numpy import *\n",
    "import operator\n",
    "from os import listdir\n",
    "\n",
    "\n",
    "def classify0(inX, dataSet, labels, k):\n",
    "    dataSetSize = dataSet.shape[0]\n",
    "    diffMat = tile(inX, (dataSetSize,1)) - dataSet\n",
    "    sqDiffMat = diffMat**2\n",
    "    sqDistances = sqDiffMat.sum(axis=1)\n",
    "    distances = sqDistances**0.5\n",
    "    sortedDistIndicies = distances.argsort()   \n",
    "    #sortedDistIndicies = numpy.argsort(distance)   \n",
    "    classCount={}          \n",
    "    for i in range(k):\n",
    "        voteIlabel = labels[sortedDistIndicies[i]]\n",
    "        classCount[voteIlabel] = classCount.get(voteIlabel,0) + 1\n",
    "    #sortedClassCount = sorted(classCount.iteritems(), key=operator.itemgetter(1), reverse=True)\n",
    "    sortedClassCount = sorted(classCount.items(), key=operator.itemgetter(1), reverse=True)\n",
    "    return sortedClassCount[0][0]\n",
    "\n",
    "\n",
    "def createDataSet():\n",
    "    group = array([[1.0,1.1],[1.0,1.0],[0,0],[0,0.1]])\n",
    "    labels = ['A','A','B','B']\n",
    "    return group, labels\n",
    "\n",
    "\n",
    "def file2matrix(filename):\n",
    "    fr = open(filename)\n",
    "    numberOfLines = len(fr.readlines())         #get the number of lines in the file\n",
    "    returnMat = zeros((numberOfLines,3))        #prepare matrix to return\n",
    "    classLabelVector = []                       #prepare labels return   \n",
    "    #fr = open(filename)\n",
    "    fr.seek(0)\n",
    "    index = 0\n",
    "    for line in fr.readlines():\n",
    "        line = line.strip()\n",
    "        listFromLine = line.split('\\t')\n",
    "        returnMat[index,:] = listFromLine[0:3]\n",
    "        #classLabelVector.append(int(listFromLine[-1]))\n",
    "        classLabelVector.append((listFromLine[-1]))\n",
    "        index += 1\n",
    "    return returnMat,classLabelVector\n",
    "    \n",
    "def autoNorm(dataSet):\n",
    "    minVals = dataSet.min(0)\n",
    "    maxVals = dataSet.max(0)\n",
    "    ranges = maxVals - minVals\n",
    "    normDataSet = zeros(shape(dataSet))\n",
    "    m = dataSet.shape[0]\n",
    "    normDataSet = dataSet - tile(minVals, (m,1))\n",
    "    normDataSet = normDataSet/tile(ranges, (m,1))   #element wise divide\n",
    "    return normDataSet, ranges, minVals\n",
    "   \n",
    "def datingClassTest():\n",
    "    hoRatio = 0.50      #hold out 10%\n",
    "    datingDataMat,datingLabels = file2matrix('datingTestSet2.txt')       #load data setfrom file\n",
    "    normMat, ranges, minVals = autoNorm(datingDataMat)\n",
    "    m = normMat.shape[0]\n",
    "    numTestVecs = int(m*hoRatio)\n",
    "    errorCount = 0.0\n",
    "    for i in range(numTestVecs):\n",
    "        classifierResult = classify0(normMat[i,:],normMat[numTestVecs:m,:],datingLabels[numTestVecs:m],3)\n",
    "        print (\"the classifier came back with: %d, the real answer is: %d\", (classifierResult, datingLabels[i]))\n",
    "        if (classifierResult != datingLabels[i]): errorCount += 1.0\n",
    "    print (\"the total error rate is: %f\",(errorCount/float(numTestVecs)))\n",
    "    print (errorCount)\n",
    "    \n",
    "def img2vector(filename):\n",
    "    returnVect = zeros((1,1024))\n",
    "    fr = open(filename)\n",
    "    for i in range(32):\n",
    "        lineStr = fr.readline()\n",
    "        for j in range(32):\n",
    "            returnVect[0,32*i+j] = int(lineStr[j])\n",
    "    return returnVect\n",
    "\n",
    "def handwritingClassTest():\n",
    "    hwLabels = []\n",
    "    trainingFileList = listdir('trainingDigits')           #load the training set\n",
    "    m = len(trainingFileList)\n",
    "    trainingMat = zeros((m,1024))\n",
    "    for i in range(m):\n",
    "        fileNameStr = trainingFileList[i]\n",
    "        fileStr = fileNameStr.split('.')[0]     #take off .txt\n",
    "        classNumStr = int(fileStr.split('_')[0])\n",
    "        hwLabels.append(classNumStr)\n",
    "        trainingMat[i,:] = img2vector('trainingDigits/%s' % fileNameStr)\n",
    "    testFileList = listdir('testDigits')        #iterate through the test set\n",
    "    errorCount = 0.0\n",
    "    mTest = len(testFileList)\n",
    "    for i in range(mTest):\n",
    "        fileNameStr = testFileList[i]\n",
    "        fileStr = fileNameStr.split('.')[0]     #take off .txt\n",
    "        classNumStr = int(fileStr.split('_')[0])\n",
    "        vectorUnderTest = img2vector('testDigits/%s' % fileNameStr)\n",
    "        classifierResult = classify0(vectorUnderTest, trainingMat, hwLabels, 3)\n",
    "        print (\"the classifier came back with: %d, the real answer is: %d\",(classifierResult, classNumStr))\n",
    "        if (classifierResult != classNumStr): errorCount += 1.0\n",
    "    print (\"\\nthe total number of errors is: %d\",errorCount)\n",
    "    print (\"\\nthe total error rate is: %f\",errorCount/float(mTest))"
   ]
  },
  {
   "cell_type": "markdown",
   "metadata": {
    "collapsed": true
   },
   "source": [
    "#  准备数据：将图像转换为测试向量"
   ]
  },
  {
   "cell_type": "code",
   "execution_count": 19,
   "metadata": {},
   "outputs": [
    {
     "name": "stdout",
     "output_type": "stream",
     "text": [
      "[ 0.  0.  0.  0.  0.  0.  0.  0.  0.  0.  0.  0.  0.  0.  1.  1.  1.  1.\n",
      "  0.  0.  0.  0.  0.  0.  0.  0.  0.  0.  0.  0.  0.]\n",
      "[ 0.  0.  0.  0.  0.  0.  0.  0.  0.  0.  0.  0.  1.  1.  1.  1.  1.  1.\n",
      "  1.  0.  0.  0.  0.  0.  0.  0.  0.  0.  0.  0.  0.]\n"
     ]
    }
   ],
   "source": [
    "# 该函数将图像转换为向量，创建1*1024的NumPy数组，然后打开给定的文件，循环读出文件的前32行，\n",
    "# 并将每行的头32个字符存储在NumPy数组中,最后返回数组\n",
    "def  img2vector(filename):\n",
    "    returnVect = zeros((1,1024))\n",
    "    fr = open(filename)\n",
    "    for i in range(32):\n",
    "        lineStr = fr.readline()\n",
    "        for j in range(32):\n",
    "            returnVect[0,32*i+j] = int(lineStr[j])\n",
    "    return returnVect\n",
    "testVector = img2vector('testDigits/0_13.txt')\n",
    "print(testVector[0,0:31])\n",
    "print(testVector[0,32:63])\n",
    "\n"
   ]
  },
  {
   "cell_type": "markdown",
   "metadata": {},
   "source": [
    "#  程序清单2-6 使用k-近邻算法识别手写数字代码"
   ]
  },
  {
   "cell_type": "code",
   "execution_count": 20,
   "metadata": {},
   "outputs": [],
   "source": [
    "from os import listdir\n",
    "def handwritingClassTest():\n",
    "    hwLabels = []\n",
    "    trainingFileList = listdir('trainingDigits') #获取目录内容\n",
    "    m = len(trainingFileList)\n",
    "    trainingMat = zeros((m,1024))\n",
    "    for i in range(m):                      #从文件名解析分类数字 文件名 0_0.txt\n",
    "        fileNameStr = trainingFileList[i]\n",
    "        fileStr = fileNameStr.split('.')[0]    #0_0\n",
    "        classNumStr = int(fileStr.split('_')[0])  #0\n",
    "        hwLabels.append(classNumStr)\n",
    "        trainingMat[i,:] = img2vector('trainingDigits/%s' % fileNameStr)\n",
    "    testFileList = listdir('testDigits')\n",
    "    errorCount = 0.0\n",
    "    mTest = len(testFileList)\n",
    "    for i in range(mTest):\n",
    "        fileNameStr = testFileList[i]\n",
    "        fileStr = fileNameStr.split('.')[0]    #0_0\n",
    "        classNumStr = int(fileStr.split('_')[0])  #0\n",
    "        vectorUnderTest =   img2vector('testDigits/%s' % fileNameStr)\n",
    "        classifierResult = classify0(vectorUnderTest,trainingMat,hwLabels,3) \n",
    "        # 参数说明：1 用于分类的输入向量 # 2 输入训练样本集 3 标签向量，4用于选择最近邻居的数目\n",
    "        print(\"the classifier came back with %d,the real anser is %d\" % (classifierResult,classNumStr))\n",
    "        if(classifierResult != classNumStr): \n",
    "            errorCount += 1.0\n",
    "    print(\"\\n the total number of the errors is %d\" % errorCount)\n",
    "    print(\"\\n the total error rate is: %f\" % (errorCount/float(mTest)))\n",
    "        "
   ]
  },
  {
   "cell_type": "code",
   "execution_count": null,
   "metadata": {
    "collapsed": true
   },
   "outputs": [],
   "source": []
  }
 ],
 "metadata": {
  "kernelspec": {
   "display_name": "Python 3",
   "language": "python",
   "name": "python3"
  },
  "language_info": {
   "codemirror_mode": {
    "name": "ipython",
    "version": 3
   },
   "file_extension": ".py",
   "mimetype": "text/x-python",
   "name": "python",
   "nbconvert_exporter": "python",
   "pygments_lexer": "ipython3",
   "version": "3.6.3"
  }
 },
 "nbformat": 4,
 "nbformat_minor": 2
}
